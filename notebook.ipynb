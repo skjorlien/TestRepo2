{
 "cells": [
  {
   "cell_type": "code",
   "execution_count": 3,
   "id": "c891cf46-1f6b-4405-a903-97d91934b388",
   "metadata": {},
   "outputs": [
    {
     "data": {
      "text/plain": [
       "array([0.75385049, 0.05789149, 0.75692907, 0.15720419, 0.89284362,\n",
       "       0.27919723, 0.9246488 , 0.28535886, 0.14903902, 0.71652014])"
      ]
     },
     "execution_count": 3,
     "metadata": {},
     "output_type": "execute_result"
    }
   ],
   "source": [
    "import numpy as np\n",
    "\n",
    "n = 10\n",
    "np.random.rand(n)"
   ]
  }
 ],
 "metadata": {
  "kernelspec": {
   "display_name": "Python 3 (ipykernel)",
   "language": "python",
   "name": "python3"
  },
  "language_info": {
   "codemirror_mode": {
    "name": "ipython",
    "version": 3
   },
   "file_extension": ".py",
   "mimetype": "text/x-python",
   "name": "python",
   "nbconvert_exporter": "python",
   "pygments_lexer": "ipython3",
   "version": "3.11.11"
  }
 },
 "nbformat": 4,
 "nbformat_minor": 5
}
